{
 "cells": [
  {
   "cell_type": "code",
   "execution_count": null,
   "id": "27c4ab61",
   "metadata": {},
   "outputs": [],
   "source": []
  }
 ],
 "metadata": {
  "kernelspec": {
   "display_name": "Python 3 (ipykernel)",
   "language": "python",
   "name": "python3"
  },
  "language_info": {
   "codemirror_mode": {
    "name": "ipython",
    "version": 3
   },
   "file_extension": ".py",
   "mimetype": "text/x-python",
   "name": "python",
   "nbconvert_exporter": "python",
   "pygments_lexer": "ipython3",
   "version": "3.7.13"
  },
  "vscode": {
   "interpreter": {
    "hash": "7c50c077591a8f84f49076e7cfb3ff72d9614e0b2d918914454ae880c4bcca3c"
   }
  }
 },
 "nbformat": 4,
 "nbformat_minor": 5
}
