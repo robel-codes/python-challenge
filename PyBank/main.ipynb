{
 "cells": [
  {
   "cell_type": "code",
   "execution_count": 7,
   "id": "27c4ab61",
   "metadata": {
    "tags": []
   },
   "outputs": [],
   "source": [
    "# From the pathlib library, import the main class Path\n",
    "from pathlib import Path\n",
    "import csv"
   ]
  },
  {
   "cell_type": "code",
   "execution_count": 8,
   "id": "a54f166e-415f-4d18-a6ce-5eece6741455",
   "metadata": {
    "tags": []
   },
   "outputs": [],
   "source": [
    "#Set the path using Pathlib\n",
    "csvpath = Path('Resources/budget_data.csv')"
   ]
  },
  {
   "cell_type": "code",
   "execution_count": 9,
   "id": "775f1768-d50d-4ee8-9dce-5ab554386b57",
   "metadata": {},
   "outputs": [],
   "source": [
    "#Initialize variables\n",
    "months_count = 0\n",
    "total_amount = 0\n",
    "last_amount = 0\n",
    "is_firstrow = True\n",
    "total_change = 0\n",
    "greatest_profit_increase = 0\n",
    "greatest_profit_decrease = 0"
   ]
  },
  {
   "cell_type": "code",
   "execution_count": 10,
   "id": "3080e52b-dc3e-4ed9-a859-25287ec35292",
   "metadata": {},
   "outputs": [
    {
     "name": "stdout",
     "output_type": "stream",
     "text": [
      "Total months: 86\n",
      "Total: 38382578\n",
      "Average change in Profit/Losses: $-2315.12\n",
      "Greatest Increase in profit: Feb-2012 ($1926159)\n",
      "Greatest Decrease in profit: Sep-2013 ($-2196167)\n"
     ]
    }
   ],
   "source": [
    "# Open the csv file as an object\n",
    "with open(csvpath, 'r') as csvfile:\n",
    "\n",
    "    # Pass in the csv file to the csv.reader() function\n",
    "    # (with ',' as the delmiter/separator) and return the csvreader object\n",
    "    csvreader = csv.reader(csvfile, delimiter=',')\n",
    "\n",
    "    # Read the header row first\n",
    "    csv_header = next(csvreader)\n",
    "    \n",
    "    # Read each row of data\n",
    "    for row in csvreader:\n",
    "        \n",
    "        # Set the 'date', 'amount' variables\n",
    "        date = row[0]\n",
    "        amount = int(row[1])\n",
    "        \n",
    "        # Calulate the the total amount and count months\n",
    "        months_count += 1\n",
    "        total_amount += amount\n",
    "        \n",
    "        # Calculate the amount change(profit/loss) from previous month\n",
    "        amount_change = amount - last_amount\n",
    "        # if statment to skip the first row\n",
    "        if(not is_firstrow):\n",
    "            total_change += amount_change\n",
    "            if((amount_change > 0) and (amount_change > greatest_profit_increase)):\n",
    "                greatest_increase_month = date\n",
    "                greatest_profit_increase = amount_change\n",
    "                \n",
    "            if((amount_change < 0) and (amount_change < greatest_profit_decrease)):\n",
    "                greatest_decrease_month = date\n",
    "                greatest_profit_decrease = amount_change\n",
    "        \n",
    "        #update the last amount\n",
    "        last_amount = amount\n",
    "        is_firstrow = False\n",
    "        \n",
    "average = round((total_change/(months_count-1)),2)\n",
    "        \n",
    "print(f\"Total months: {months_count}\")\n",
    "print(f\"Total: {total_amount}\")\n",
    "print(f\"Average change in Profit/Losses: ${average}\")\n",
    "print(f\"Greatest Increase in profit: {greatest_increase_month} (${greatest_profit_increase})\")\n",
    "print(f\"Greatest Decrease in profit: {greatest_decrease_month} (${greatest_profit_decrease})\")\n",
    "\n",
    "    "
   ]
  },
  {
   "cell_type": "code",
   "execution_count": 11,
   "id": "a775e5bf-bd7c-4da3-a989-0e6d323d424e",
   "metadata": {},
   "outputs": [],
   "source": [
    "# Set the path for the output.csv\n",
    "output_path = Path(\"output.txt\")"
   ]
  },
  {
   "cell_type": "code",
   "execution_count": 12,
   "id": "2e0f17e2-52ab-4c2a-85a5-faa3b6fdc7df",
   "metadata": {},
   "outputs": [],
   "source": [
    "# Open the output_path as a file object in \"write\" mode ('w')\n",
    "# Wrote a header line and write the contents of 'text' to the file\n",
    "with open(output_path, 'w') as file:\n",
    "    file.write(\"Financial Analysis\\n-----------------------------------\\n\")\n",
    "    file.write(f\"Total months: {months_count}\\n\")\n",
    "    file.write(f\"Total: {total_amount}\\n\")\n",
    "    file.write(f\"Average change in Profit/Losses: ${average}\\n\")\n",
    "    file.write(f\"Greatest Increase in profit: {greatest_increase_month} (${greatest_profit_increase})\\n\")\n",
    "    file.write(f\"Greatest Decrease in profit: {greatest_decrease_month} (${greatest_profit_decrease})\\n\")\n"
   ]
  },
  {
   "cell_type": "code",
   "execution_count": null,
   "id": "aa149cf7-a955-44f6-acce-f0b46ed1364c",
   "metadata": {},
   "outputs": [],
   "source": []
  },
  {
   "cell_type": "code",
   "execution_count": null,
   "id": "d29fac42-3795-4747-8622-c7c0060390e4",
   "metadata": {},
   "outputs": [],
   "source": []
  },
  {
   "cell_type": "code",
   "execution_count": null,
   "id": "6ab308ce-cbcb-4f12-9dcf-b0b79fa36b6f",
   "metadata": {},
   "outputs": [],
   "source": []
  }
 ],
 "metadata": {
  "kernelspec": {
   "display_name": "Python 3.7.13",
   "language": "python",
   "name": "python3"
  },
  "language_info": {
   "codemirror_mode": {
    "name": "ipython",
    "version": 3
   },
   "file_extension": ".py",
   "mimetype": "text/x-python",
   "name": "python",
   "nbconvert_exporter": "python",
   "pygments_lexer": "ipython3",
   "version": "3.7.13"
  },
  "vscode": {
   "interpreter": {
    "hash": "6da2841371bf59b32999a785e64b06216d7cfd42a773cb5b902ec8175807909c"
   }
  }
 },
 "nbformat": 4,
 "nbformat_minor": 5
}
